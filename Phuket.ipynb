{
  "nbformat": 4,
  "nbformat_minor": 0,
  "metadata": {
    "colab": {
      "name": "Phuket.ipynb",
      "version": "0.3.2",
      "provenance": [],
      "include_colab_link": true
    },
    "kernelspec": {
      "name": "python3",
      "display_name": "Python 3"
    }
  },
  "cells": [
    {
      "cell_type": "markdown",
      "metadata": {
        "id": "view-in-github",
        "colab_type": "text"
      },
      "source": [
        "<a href=\"https://colab.research.google.com/github/lstamaria/codelab_practice/blob/master/Phuket.ipynb\" target=\"_parent\"><img src=\"https://colab.research.google.com/assets/colab-badge.svg\" alt=\"Open In Colab\"/></a>"
      ]
    },
    {
      "cell_type": "markdown",
      "metadata": {
        "id": "UM5ur0JKNnV9",
        "colab_type": "text"
      },
      "source": [
        "\n",
        "\n",
        "Upload the scraping result/json file to colab (not needed if done locally in jupyter notebook)\n"
      ]
    },
    {
      "cell_type": "code",
      "metadata": {
        "id": "Ur452COFNfxY",
        "colab_type": "code",
        "outputId": "df342b2d-1005-4952-8770-9aaf970a34c1",
        "colab": {
          "resources": {
            "http://localhost:8080/nbextensions/google.colab/files.js": {
              "data": "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",
              "ok": true,
              "headers": [
                [
                  "content-type",
                  "application/javascript"
                ]
              ],
              "status": 200,
              "status_text": ""
            }
          },
          "base_uri": "https://localhost:8080/",
          "height": 70
        }
      },
      "source": [
        "from google.colab import files\n",
        "uploaded = files.upload()"
      ],
      "execution_count": 0,
      "outputs": [
        {
          "output_type": "display_data",
          "data": {
            "text/html": [
              "\n",
              "     <input type=\"file\" id=\"files-a9abdb6d-97c6-475a-8e5e-2d04b864ee69\" name=\"files[]\" multiple disabled />\n",
              "     <output id=\"result-a9abdb6d-97c6-475a-8e5e-2d04b864ee69\">\n",
              "      Upload widget is only available when the cell has been executed in the\n",
              "      current browser session. Please rerun this cell to enable.\n",
              "      </output>\n",
              "      <script src=\"/nbextensions/google.colab/files.js\"></script> "
            ],
            "text/plain": [
              "<IPython.core.display.HTML object>"
            ]
          },
          "metadata": {
            "tags": []
          }
        },
        {
          "output_type": "stream",
          "text": [
            "Saving result.json to result (1).json\n"
          ],
          "name": "stdout"
        }
      ]
    },
    {
      "cell_type": "markdown",
      "metadata": {
        "id": "PojwTbrmN2xP",
        "colab_type": "text"
      },
      "source": [
        "Load to dataframe"
      ]
    },
    {
      "cell_type": "code",
      "metadata": {
        "id": "MNR9muRfN1cH",
        "colab_type": "code",
        "colab": {}
      },
      "source": [
        "import pandas as pd\n",
        "import json\n",
        "\n",
        "file = 'result.json'\n",
        "with open(file) as data_file:\n",
        "  js = json.load(data_file)\n",
        "  df = pd.DataFrame(js)\n"
      ],
      "execution_count": 0,
      "outputs": []
    },
    {
      "cell_type": "markdown",
      "metadata": {
        "id": "UgtRu2bPWCoH",
        "colab_type": "text"
      },
      "source": [
        "Parse ameneties into separate columns and create a dataframe which has 0 or 1 for each amenity."
      ]
    },
    {
      "cell_type": "code",
      "metadata": {
        "id": "iHt0SmURPQAk",
        "colab_type": "code",
        "outputId": "fec27319-a4a2-4c3b-81d3-1b76d002bab5",
        "colab": {
          "base_uri": "https://localhost:8080/",
          "height": 237
        }
      },
      "source": [
        "df.head(3)"
      ],
      "execution_count": 0,
      "outputs": [
        {
          "output_type": "execute_result",
          "data": {
            "text/html": [
              "<div>\n",
              "<style scoped>\n",
              "    .dataframe tbody tr th:only-of-type {\n",
              "        vertical-align: middle;\n",
              "    }\n",
              "\n",
              "    .dataframe tbody tr th {\n",
              "        vertical-align: top;\n",
              "    }\n",
              "\n",
              "    .dataframe thead th {\n",
              "        text-align: right;\n",
              "    }\n",
              "</style>\n",
              "<table border=\"1\" class=\"dataframe\">\n",
              "  <thead>\n",
              "    <tr style=\"text-align: right;\">\n",
              "      <th></th>\n",
              "      <th>a</th>\n",
              "      <th>d</th>\n",
              "      <th>rank</th>\n",
              "      <th>rating</th>\n",
              "      <th>rb</th>\n",
              "      <th>review</th>\n",
              "    </tr>\n",
              "  </thead>\n",
              "  <tbody>\n",
              "    <tr>\n",
              "      <th>0</th>\n",
              "      <td>[Pool, Room service, Free parking, Restaurant,...</td>\n",
              "      <td>{\"@context\":\"http://schema.org\",\"@type\":\"Lodgi...</td>\n",
              "      <td>#6 of 366 hotels in Phuket</td>\n",
              "      <td>4.5</td>\n",
              "      <td>{'Location': 'bubble_40', 'Cleanliness': 'bubb...</td>\n",
              "      <td>1,039 reviews</td>\n",
              "    </tr>\n",
              "    <tr>\n",
              "      <th>1</th>\n",
              "      <td>[Free High Speed Internet (WiFi), Pool, Free p...</td>\n",
              "      <td>{\"@context\":\"http://schema.org\",\"@type\":\"Lodgi...</td>\n",
              "      <td>#37 of 366 hotels in Phuket</td>\n",
              "      <td>4.5</td>\n",
              "      <td>{'Location': 'bubble_45', 'Cleanliness': 'bubb...</td>\n",
              "      <td>1,864 reviews</td>\n",
              "    </tr>\n",
              "    <tr>\n",
              "      <th>2</th>\n",
              "      <td>[Room service, Pool, Restaurant, Fitness Cente...</td>\n",
              "      <td>{\"@context\":\"http://schema.org\",\"@type\":\"Lodgi...</td>\n",
              "      <td>#13 of 41 hotels in Phuket</td>\n",
              "      <td>4.5</td>\n",
              "      <td>{'Location': 'bubble_45', 'Cleanliness': 'bubb...</td>\n",
              "      <td>2,332 reviews</td>\n",
              "    </tr>\n",
              "  </tbody>\n",
              "</table>\n",
              "</div>"
            ],
            "text/plain": [
              "                                                   a  ...         review\n",
              "0  [Pool, Room service, Free parking, Restaurant,...  ...  1,039 reviews\n",
              "1  [Free High Speed Internet (WiFi), Pool, Free p...  ...  1,864 reviews\n",
              "2  [Room service, Pool, Restaurant, Fitness Cente...  ...  2,332 reviews\n",
              "\n",
              "[3 rows x 6 columns]"
            ]
          },
          "metadata": {
            "tags": []
          },
          "execution_count": 67
        }
      ]
    },
    {
      "cell_type": "code",
      "metadata": {
        "id": "Xsr_T2boTCFh",
        "colab_type": "code",
        "colab": {}
      },
      "source": [
        "def parse_amenities(row):\n",
        "  amenities_list = row['a']\n",
        "  am_map = {}\n",
        "  for am in amenities_list:\n",
        "    am_map[am] = 1\n",
        "  return am_map\n",
        "\n",
        "\n",
        "amenities_df = df.apply(parse_amenities, result_type='expand', axis=1)"
      ],
      "execution_count": 0,
      "outputs": []
    },
    {
      "cell_type": "code",
      "metadata": {
        "id": "yrwDABDdVabq",
        "colab_type": "code",
        "colab": {}
      },
      "source": [
        "amenities_df.fillna(value=0, inplace=True)"
      ],
      "execution_count": 0,
      "outputs": []
    },
    {
      "cell_type": "markdown",
      "metadata": {
        "id": "Dq-nn1e1WdZU",
        "colab_type": "text"
      },
      "source": [
        "Parse other data out of the dataframe's d column which is a nested json"
      ]
    },
    {
      "cell_type": "code",
      "metadata": {
        "id": "yvFAB8aKWbRS",
        "colab_type": "code",
        "colab": {}
      },
      "source": [
        "import re\n",
        "\n",
        "def parse_d(row):\n",
        "  data = row['d'] # data is a string\n",
        "  data_js = json.loads(data)  # data_js is a json\n",
        "  # Extract name, rating, review, price_min, price_max and address-zipcode\n",
        "  data_map = {}\n",
        "  data_map['name'] = data_js['name']\n",
        "  rating_data = data_js['aggregateRating']\n",
        "  data_map['rating'] = rating_data['ratingValue']\n",
        "  data_map['review'] = int(rating_data['reviewCount'])\n",
        "  data_map['address'] = data_js['address']['postalCode']\n",
        "  \n",
        "  # Now price info\n",
        "  if 'priceRange' in data_js:\n",
        "    price_info = data_js['priceRange']\n",
        "    data_map['price_info'] = price_info # Recording for debugging\n",
        "    match = re.search('₱([0-9,]+) - ₱([0-9,]+)', price_info)\n",
        "    if match:\n",
        "      data_map['price_min'] = int(match.group(1).replace(',', ''))\n",
        "      data_map['price_max'] = int(match.group(2).replace(',', ''))\n",
        "    else:\n",
        "      print('No price extracted out of ', price_info)  # Helps us check if we are parsing everything\n",
        "  \n",
        "  return data_map\n",
        "\n",
        "d_df = df.apply(parse_d, result_type='expand', axis=1)"
      ],
      "execution_count": 0,
      "outputs": []
    },
    {
      "cell_type": "markdown",
      "metadata": {
        "id": "SQV6RamcbHUY",
        "colab_type": "text"
      },
      "source": [
        "Parse rating breakdown (location, cleanliness etc) and ranking.\n"
      ]
    },
    {
      "cell_type": "code",
      "metadata": {
        "id": "d6V4yookbPio",
        "colab_type": "code",
        "outputId": "d0046459-24f8-4fe5-85be-8b4d8381de9a",
        "colab": {
          "base_uri": "https://localhost:8080/",
          "height": 3496
        }
      },
      "source": [
        "def parse_rest(row):\n",
        "  ranking = row['rank']\n",
        "  r_map = {}\n",
        "  match = re.search('#([0-9]+) of 366 hotels in Phuket', ranking) # Make sure they all follow the same pattern\n",
        "  if match:\n",
        "    r_map['rank'] = int(match.group(1).replace(',', ''))\n",
        "  else:\n",
        "    print('ranking did not match for ', ranking)\n",
        "  \n",
        "  rb = row['rb']\n",
        "  for key in rb:\n",
        "    r_map[key] = rb[key][7:]\n",
        "  \n",
        "  return r_map\n",
        "\n",
        "\n",
        "r_df = df.apply(parse_rest, result_type='expand', axis=1)\n",
        "r_df[0:3]"
      ],
      "execution_count": 0,
      "outputs": [
        {
          "output_type": "stream",
          "text": [
            "ranking did not match for  #13 of 41 hotels in Phuket\n",
            "ranking did not match for  #1 of 9 hotels in Phuket\n",
            "ranking did not match for  #8 of 41 hotels in Phuket\n",
            "ranking did not match for  #4 of 12 hotels in Phuket\n",
            "ranking did not match for  #14 of 41 hotels in Phuket\n",
            "ranking did not match for  #1 of 52 hotels in Phuket\n",
            "ranking did not match for  #31 of 58 hotels in Phuket\n",
            "ranking did not match for  #18 of 466 B&Bs / Inns in Phuket\n",
            "ranking did not match for  #12 of 14 hotels in Phuket\n",
            "ranking did not match for  #3 of 178 B&Bs / Inns in Phuket\n",
            "ranking did not match for  #5 of 466 B&Bs / Inns in Phuket\n",
            "ranking did not match for  #40 of 466 B&Bs / Inns in Phuket\n",
            "ranking did not match for  #4 of 16 B&Bs / Inns in Phuket\n",
            "ranking did not match for  #16 of 225 B&Bs / Inns in Phuket\n",
            "ranking did not match for  #6 of 271 Specialty lodging in Phuket\n",
            "ranking did not match for  #8 of 73 B&Bs / Inns in Phuket\n",
            "ranking did not match for  #1 of 41 Specialty lodging in Phuket\n",
            "ranking did not match for  #21 of 279 Specialty lodging in Phuket\n",
            "ranking did not match for  #21 of 466 B&Bs / Inns in Phuket\n",
            "ranking did not match for  #10 of 271 Specialty lodging in Phuket\n",
            "ranking did not match for  #8 of 466 B&Bs / Inns in Phuket\n",
            "ranking did not match for  #11 of 225 B&Bs / Inns in Phuket\n",
            "ranking did not match for  #5 of 68 Specialty lodging in Phuket\n",
            "ranking did not match for  #11 of 86 Specialty lodging in Phuket\n",
            "ranking did not match for  #23 of 178 B&Bs / Inns in Phuket\n",
            "ranking did not match for  #7 of 11 hotels in Phuket\n",
            "ranking did not match for  #19 of 108 hotels in Phuket\n",
            "ranking did not match for  #2 of 11 B&Bs / Inns in Phuket\n",
            "ranking did not match for  #23 of 466 B&Bs / Inns in Phuket\n",
            "ranking did not match for  #12 of 271 Specialty lodging in Phuket\n",
            "ranking did not match for  #24 of 466 B&Bs / Inns in Phuket\n",
            "ranking did not match for  #10 of 73 B&Bs / Inns in Phuket\n",
            "ranking did not match for  #9 of 68 Specialty lodging in Phuket\n",
            "ranking did not match for  #22 of 110 hotels in Phuket\n",
            "ranking did not match for  #3 of 147 Specialty lodging in Phuket\n",
            "ranking did not match for  #2 of 68 Specialty lodging in Phuket\n",
            "ranking did not match for  #6 of 130 Specialty lodging in Phuket\n",
            "ranking did not match for  #1 of 195 Specialty lodging in Phuket\n",
            "ranking did not match for  #5 of 130 Specialty lodging in Phuket\n",
            "ranking did not match for  #1 of 54 B&Bs / Inns in Phuket\n",
            "ranking did not match for  #5 of 41 hotels in Phuket\n",
            "ranking did not match for  #1 of 466 B&Bs / Inns in Phuket\n",
            "ranking did not match for  #2 of 130 Specialty lodging in Phuket\n",
            "ranking did not match for  #2 of 66 Specialty lodging in Phuket\n",
            "ranking did not match for  #1 of 66 Specialty lodging in Phuket\n",
            "ranking did not match for  #1 of 130 Specialty lodging in Phuket\n",
            "ranking did not match for  #4 of 73 B&Bs / Inns in Phuket\n",
            "ranking did not match for  #42 of 143 hotels in Phuket\n",
            "ranking did not match for  #3 of 102 B&Bs / Inns in Phuket\n",
            "ranking did not match for  #1 of 23 Specialty lodging in Phuket\n",
            "ranking did not match for  #2 of 54 B&Bs / Inns in Phuket\n",
            "ranking did not match for  #9 of 108 hotels in Phuket\n",
            "ranking did not match for  #11 of 576 B&Bs / Inns in Phuket\n",
            "ranking did not match for  #1 of 271 Specialty lodging in Phuket\n",
            "ranking did not match for  #9 of 143 hotels in Phuket\n",
            "ranking did not match for  #3 of 130 Specialty lodging in Phuket\n",
            "ranking did not match for  #6 of 178 B&Bs / Inns in Phuket\n",
            "ranking did not match for  #1 of 44 Specialty lodging in Phuket\n",
            "ranking did not match for  #5 of 20 hotels in Phuket\n",
            "ranking did not match for  #4 of 130 Specialty lodging in Phuket\n",
            "ranking did not match for  #1 of 102 B&Bs / Inns in Phuket\n",
            "ranking did not match for  #29 of 143 hotels in Phuket\n",
            "ranking did not match for  #4 of 41 hotels in Phuket\n",
            "ranking did not match for  #167 of 873 hotels in Phuket\n",
            "ranking did not match for  #1 of 7 B&Bs / Inns in Phuket\n",
            "ranking did not match for  #10 of 52 hotels in Phuket\n",
            "ranking did not match for  #20 of 41 hotels in Phuket\n",
            "ranking did not match for  #4 of 466 B&Bs / Inns in Phuket\n",
            "ranking did not match for  #1 of 178 B&Bs / Inns in Phuket\n",
            "ranking did not match for  #2 of 73 B&Bs / Inns in Phuket\n",
            "ranking did not match for  #17 of 110 hotels in Phuket\n",
            "ranking did not match for  #2 of 7 B&Bs / Inns in Phuket\n",
            "ranking did not match for  #1 of 68 Specialty lodging in Phuket\n",
            "ranking did not match for  #4 of 102 B&Bs / Inns in Phuket\n",
            "ranking did not match for  #1 of 86 Specialty lodging in Phuket\n",
            "ranking did not match for  #20 of 58 hotels in Phuket\n",
            "ranking did not match for  #2 of 86 Specialty lodging in Phuket\n",
            "ranking did not match for  #9 of 466 B&Bs / Inns in Phuket\n",
            "ranking did not match for  #4 of 17 hotels in Phuket\n",
            "ranking did not match for  #22 of 41 hotels in Phuket\n",
            "ranking did not match for  #16 of 58 hotels in Phuket\n",
            "ranking did not match for  #8 of 17 hotels in Phuket\n",
            "ranking did not match for  #1 of 31 B&Bs / Inns in Phuket\n",
            "ranking did not match for  #2 of 58 hotels in Phuket\n",
            "ranking did not match for  LocationCleanlinessServiceValue\n",
            "ranking did not match for  #2 of 14 hotels in Phuket\n",
            "ranking did not match for  #58 of 143 hotels in Phuket\n",
            "ranking did not match for  #11 of 14 hotels in Phuket\n",
            "ranking did not match for  #4 of 144 B&Bs / Inns in Phuket\n",
            "ranking did not match for  #5 of 22 hotels in Phuket\n",
            "ranking did not match for  #1 of 11 B&Bs / Inns in Phuket\n",
            "ranking did not match for  #1 of 16 B&Bs / Inns in Phuket\n",
            "ranking did not match for  #22 of 143 hotels in Phuket\n",
            "ranking did not match for  #6 of 147 Specialty lodging in Phuket\n",
            "ranking did not match for  #5 of 15 hotels in Phuket\n",
            "ranking did not match for  #3 of 73 B&Bs / Inns in Phuket\n",
            "ranking did not match for  #6 of 20 hotels in Phuket\n",
            "ranking did not match for  #3 of 54 B&Bs / Inns in Phuket\n",
            "ranking did not match for  #12 of 466 B&Bs / Inns in Phuket\n",
            "ranking did not match for  #8 of 41 hotels in Phuket\n",
            "ranking did not match for  #7 of 17 hotels in Phuket\n",
            "ranking did not match for  #38 of 143 hotels in Phuket\n",
            "ranking did not match for  #49 of 143 hotels in Phuket\n",
            "ranking did not match for  #15 of 41 hotels in Phuket\n",
            "ranking did not match for  #4 of 147 Specialty lodging in Phuket\n",
            "ranking did not match for  #1 of 16 Specialty lodging in Phuket\n",
            "ranking did not match for  #1 of 10 Specialty lodging in Phuket\n",
            "ranking did not match for  #21 of 41 hotels in Phuket\n",
            "ranking did not match for  #5 of 279 Specialty lodging in Phuket\n",
            "ranking did not match for  #1 of 6 B&Bs / Inns in Phuket\n",
            "ranking did not match for  #6 of 12 hotels in Phuket\n",
            "ranking did not match for  #12 of 225 B&Bs / Inns in Phuket\n",
            "ranking did not match for  #22 of 279 Specialty lodging in Phuket\n",
            "ranking did not match for  #11 of 68 Specialty lodging in Phuket\n",
            "ranking did not match for  #16 of 279 Specialty lodging in Phuket\n",
            "ranking did not match for  #5 of 66 Specialty lodging in Phuket\n",
            "ranking did not match for  #14 of 41 hotels in Phuket\n",
            "ranking did not match for  #3 of 68 Specialty lodging in Phuket\n",
            "ranking did not match for  #38 of 466 B&Bs / Inns in Phuket\n",
            "ranking did not match for  #26 of 58 hotels in Phuket\n",
            "ranking did not match for  #36 of 466 B&Bs / Inns in Phuket\n",
            "ranking did not match for  #13 of 52 hotels in Phuket\n",
            "ranking did not match for  #29 of 58 hotels in Phuket\n",
            "ranking did not match for  #8 of 52 hotels in Phuket\n",
            "ranking did not match for  #41 of 143 hotels in Phuket\n",
            "ranking did not match for  #15 of 52 hotels in Phuket\n",
            "ranking did not match for  #34 of 58 hotels in Phuket\n",
            "ranking did not match for  #87 of 143 hotels in Phuket\n",
            "ranking did not match for  #10 of 14 hotels in Phuket\n",
            "ranking did not match for  #7 of 73 B&Bs / Inns in Phuket\n",
            "ranking did not match for  #4 of 41 hotels in Phuket\n",
            "ranking did not match for  #2 of 225 B&Bs / Inns in Phuket\n",
            "ranking did not match for  #27 of 143 hotels in Phuket\n",
            "ranking did not match for  #6 of 14 hotels in Phuket\n",
            "ranking did not match for  #2 of 12 hotels in Phuket\n",
            "ranking did not match for  #3 of 41 hotels in Phuket\n",
            "ranking did not match for  #4 of 14 hotels in Phuket\n",
            "ranking did not match for  #24 of 143 hotels in Phuket\n",
            "ranking did not match for  #14 of 22 hotels in Phuket\n",
            "ranking did not match for  #2 of 11 hotels in Phuket\n",
            "ranking did not match for  #75 of 143 hotels in Phuket\n",
            "ranking did not match for  #17 of 58 hotels in Phuket\n",
            "ranking did not match for  #1 of 4 hotels in Phuket\n",
            "ranking did not match for  #8 of 14 hotels in Phuket\n",
            "ranking did not match for  #9 of 11 hotels in Phuket\n",
            "ranking did not match for  #9 of 52 hotels in Phuket\n",
            "ranking did not match for  #3 of 41 hotels in Phuket\n",
            "ranking did not match for  #19 of 41 hotels in Phuket\n",
            "ranking did not match for  #2 of 17 hotels in Phuket\n",
            "ranking did not match for  #1 of 2 hotels in Phuket\n",
            "ranking did not match for  #1 of 41 hotels in Phuket\n",
            "ranking did not match for  #3 of 9 hotels in Phuket\n",
            "ranking did not match for  #8 of 22 hotels in Phuket\n",
            "ranking did not match for  #36 of 143 hotels in Phuket\n",
            "ranking did not match for  #6 of 58 hotels in Phuket\n",
            "ranking did not match for  #16 of 41 hotels in Phuket\n",
            "ranking did not match for  #3 of 52 hotels in Phuket\n",
            "ranking did not match for  #3 of 16 Specialty lodging in Phuket\n",
            "ranking did not match for  #21 of 1,133 Specialty lodging in Phuket\n",
            "ranking did not match for  #17 of 143 hotels in Phuket\n",
            "ranking did not match for  #19 of 41 hotels in Phuket\n",
            "ranking did not match for  #6 of 41 hotels in Phuket\n",
            "ranking did not match for  #1 of 11 hotels in Phuket\n",
            "ranking did not match for  #9 of 41 hotels in Phuket\n",
            "ranking did not match for  LocationCleanlinessServiceValue\n",
            "ranking did not match for  #4 of 11 hotels in Phuket\n",
            "ranking did not match for  #18 of 58 hotels in Phuket\n",
            "ranking did not match for  #17 of 41 hotels in Phuket\n",
            "ranking did not match for  #2 of 41 hotels in Phuket\n",
            "ranking did not match for  #44 of 143 hotels in Phuket\n",
            "ranking did not match for  #9 of 17 hotels in Phuket\n",
            "ranking did not match for  #5 of 17 hotels in Phuket\n",
            "ranking did not match for  #5 of 108 hotels in Phuket\n",
            "ranking did not match for  #13 of 58 hotels in Phuket\n",
            "ranking did not match for  #15 of 58 hotels in Phuket\n",
            "ranking did not match for  #37 of 143 hotels in Phuket\n",
            "ranking did not match for  #2 of 108 hotels in Phuket\n",
            "ranking did not match for  #1 of 15 hotels in Phuket\n",
            "ranking did not match for  #21 of 58 hotels in Phuket\n",
            "ranking did not match for  #5 of 52 hotels in Phuket\n",
            "ranking did not match for  #12 of 41 hotels in Phuket\n",
            "ranking did not match for  #3 of 17 hotels in Phuket\n",
            "ranking did not match for  #10 of 58 hotels in Phuket\n",
            "ranking did not match for  #11 of 41 hotels in Phuket\n",
            "ranking did not match for  #3 of 12 hotels in Phuket\n",
            "ranking did not match for  #1 of 11 hotels in Phuket\n",
            "ranking did not match for  #5 of 11 hotels in Phuket\n",
            "ranking did not match for  #13 of 41 hotels in Phuket\n",
            "ranking did not match for  #7 of 41 hotels in Phuket\n",
            "ranking did not match for  #18 of 143 hotels in Phuket\n",
            "ranking did not match for  #2 of 143 hotels in Phuket\n",
            "ranking did not match for  #1 of 17 hotels in Phuket\n",
            "ranking did not match for  #1 of 58 hotels in Phuket\n",
            "ranking did not match for  #6 of 17 hotels in Phuket\n",
            "ranking did not match for  #2 of 271 Specialty lodging in Phuket\n",
            "ranking did not match for  #3 of 15 hotels in Phuket\n",
            "ranking did not match for  #10 of 41 hotels in Phuket\n",
            "ranking did not match for  #4 of 58 hotels in Phuket\n",
            "ranking did not match for  #1 of 2 hotels in Phuket\n",
            "ranking did not match for  #12 of 58 hotels in Phuket\n"
          ],
          "name": "stdout"
        },
        {
          "output_type": "execute_result",
          "data": {
            "text/html": [
              "<div>\n",
              "<style scoped>\n",
              "    .dataframe tbody tr th:only-of-type {\n",
              "        vertical-align: middle;\n",
              "    }\n",
              "\n",
              "    .dataframe tbody tr th {\n",
              "        vertical-align: top;\n",
              "    }\n",
              "\n",
              "    .dataframe thead th {\n",
              "        text-align: right;\n",
              "    }\n",
              "</style>\n",
              "<table border=\"1\" class=\"dataframe\">\n",
              "  <thead>\n",
              "    <tr style=\"text-align: right;\">\n",
              "      <th></th>\n",
              "      <th>Cleanliness</th>\n",
              "      <th>Location</th>\n",
              "      <th>Service</th>\n",
              "      <th>Value</th>\n",
              "      <th>rank</th>\n",
              "    </tr>\n",
              "  </thead>\n",
              "  <tbody>\n",
              "    <tr>\n",
              "      <th>0</th>\n",
              "      <td>45</td>\n",
              "      <td>40</td>\n",
              "      <td>45</td>\n",
              "      <td>45</td>\n",
              "      <td>6.0</td>\n",
              "    </tr>\n",
              "    <tr>\n",
              "      <th>1</th>\n",
              "      <td>45</td>\n",
              "      <td>45</td>\n",
              "      <td>40</td>\n",
              "      <td>45</td>\n",
              "      <td>37.0</td>\n",
              "    </tr>\n",
              "    <tr>\n",
              "      <th>2</th>\n",
              "      <td>45</td>\n",
              "      <td>45</td>\n",
              "      <td>45</td>\n",
              "      <td>40</td>\n",
              "      <td>NaN</td>\n",
              "    </tr>\n",
              "  </tbody>\n",
              "</table>\n",
              "</div>"
            ],
            "text/plain": [
              "  Cleanliness Location Service Value  rank\n",
              "0          45       40      45    45   6.0\n",
              "1          45       45      40    45  37.0\n",
              "2          45       45      45    40   NaN"
            ]
          },
          "metadata": {
            "tags": []
          },
          "execution_count": 94
        }
      ]
    },
    {
      "cell_type": "code",
      "metadata": {
        "id": "hGkj7ocTdX5J",
        "colab_type": "code",
        "colab": {}
      },
      "source": [
        "# Merge the interesting dataframes to start working\n",
        "\n",
        "mdf = d_df.join(r_df.join(amenities_df, how='outer'), how='outer')"
      ],
      "execution_count": 0,
      "outputs": []
    },
    {
      "cell_type": "code",
      "metadata": {
        "id": "ihzEgS46dmkj",
        "colab_type": "code",
        "outputId": "6837edb1-9897-42c7-bc84-4cb07ff68f4e",
        "colab": {
          "base_uri": "https://localhost:8080/",
          "height": 475
        }
      },
      "source": [
        "mdf[0:3]"
      ],
      "execution_count": 0,
      "outputs": [
        {
          "output_type": "execute_result",
          "data": {
            "text/html": [
              "<div>\n",
              "<style scoped>\n",
              "    .dataframe tbody tr th:only-of-type {\n",
              "        vertical-align: middle;\n",
              "    }\n",
              "\n",
              "    .dataframe tbody tr th {\n",
              "        vertical-align: top;\n",
              "    }\n",
              "\n",
              "    .dataframe thead th {\n",
              "        text-align: right;\n",
              "    }\n",
              "</style>\n",
              "<table border=\"1\" class=\"dataframe\">\n",
              "  <thead>\n",
              "    <tr style=\"text-align: right;\">\n",
              "      <th></th>\n",
              "      <th>address</th>\n",
              "      <th>name</th>\n",
              "      <th>price_info</th>\n",
              "      <th>price_max</th>\n",
              "      <th>price_min</th>\n",
              "      <th>rating</th>\n",
              "      <th>review</th>\n",
              "      <th>Cleanliness</th>\n",
              "      <th>Location</th>\n",
              "      <th>Service</th>\n",
              "      <th>Value</th>\n",
              "      <th>rank</th>\n",
              "      <th>Accessible rooms</th>\n",
              "      <th>Air conditioning</th>\n",
              "      <th>Airport transportation</th>\n",
              "      <th>Babysitting</th>\n",
              "      <th>Banquet Room</th>\n",
              "      <th>Bar/Lounge</th>\n",
              "      <th>Breakfast Available</th>\n",
              "      <th>Breakfast included</th>\n",
              "      <th>Business Center with Internet Access</th>\n",
              "      <th>Children Activities (Kid / Family Friendly)</th>\n",
              "      <th>Concierge</th>\n",
              "      <th>Conference Facilities</th>\n",
              "      <th>Dry Cleaning</th>\n",
              "      <th>Family Rooms</th>\n",
              "      <th>Fitness Center with Gym / Workout Room</th>\n",
              "      <th>Free High Speed Internet (WiFi)</th>\n",
              "      <th>Free parking</th>\n",
              "      <th>Golf Course</th>\n",
              "      <th>Hot Tub</th>\n",
              "      <th>Kitchenette</th>\n",
              "      <th>Laundry Service</th>\n",
              "      <th>Meeting rooms</th>\n",
              "      <th>Microwave</th>\n",
              "      <th>Minibar</th>\n",
              "      <th>Multilingual Staff</th>\n",
              "      <th>Non-smoking hotel</th>\n",
              "      <th>Non-smoking rooms</th>\n",
              "      <th>Outdoor pool</th>\n",
              "      <th>Pool</th>\n",
              "      <th>Public Wifi</th>\n",
              "      <th>Refrigerator in room</th>\n",
              "      <th>Restaurant</th>\n",
              "      <th>Room service</th>\n",
              "      <th>Sauna</th>\n",
              "      <th>Self-Serve Laundry</th>\n",
              "      <th>Shuttle Bus Service</th>\n",
              "      <th>Smoking rooms available</th>\n",
              "      <th>Spa</th>\n",
              "      <th>Suites</th>\n",
              "      <th>Tennis Court</th>\n",
              "      <th>Wheelchair Access</th>\n",
              "    </tr>\n",
              "  </thead>\n",
              "  <tbody>\n",
              "    <tr>\n",
              "      <th>0</th>\n",
              "      <td>83150</td>\n",
              "      <td>The Marina Phuket Hotel</td>\n",
              "      <td>₱2,349 - ₱7,568 (Based on Average Rates for a ...</td>\n",
              "      <td>7568.0</td>\n",
              "      <td>2349.0</td>\n",
              "      <td>4.5</td>\n",
              "      <td>1041</td>\n",
              "      <td>45</td>\n",
              "      <td>40</td>\n",
              "      <td>45</td>\n",
              "      <td>45</td>\n",
              "      <td>6.0</td>\n",
              "      <td>0.0</td>\n",
              "      <td>1.0</td>\n",
              "      <td>1.0</td>\n",
              "      <td>0.0</td>\n",
              "      <td>1.0</td>\n",
              "      <td>1.0</td>\n",
              "      <td>1.0</td>\n",
              "      <td>1.0</td>\n",
              "      <td>1.0</td>\n",
              "      <td>0.0</td>\n",
              "      <td>1.0</td>\n",
              "      <td>1.0</td>\n",
              "      <td>1.0</td>\n",
              "      <td>1.0</td>\n",
              "      <td>1.0</td>\n",
              "      <td>1.0</td>\n",
              "      <td>1.0</td>\n",
              "      <td>0.0</td>\n",
              "      <td>0.0</td>\n",
              "      <td>0.0</td>\n",
              "      <td>1.0</td>\n",
              "      <td>1.0</td>\n",
              "      <td>0.0</td>\n",
              "      <td>1.0</td>\n",
              "      <td>0.0</td>\n",
              "      <td>1.0</td>\n",
              "      <td>1.0</td>\n",
              "      <td>1.0</td>\n",
              "      <td>1.0</td>\n",
              "      <td>1.0</td>\n",
              "      <td>1.0</td>\n",
              "      <td>1.0</td>\n",
              "      <td>1.0</td>\n",
              "      <td>1.0</td>\n",
              "      <td>0.0</td>\n",
              "      <td>1.0</td>\n",
              "      <td>0.0</td>\n",
              "      <td>0.0</td>\n",
              "      <td>1.0</td>\n",
              "      <td>0.0</td>\n",
              "      <td>1.0</td>\n",
              "    </tr>\n",
              "    <tr>\n",
              "      <th>1</th>\n",
              "      <td>83150</td>\n",
              "      <td>Holiday Inn Express Phuket Patong Beach Central</td>\n",
              "      <td>₱3,184 - ₱5,898 (Based on Average Rates for a ...</td>\n",
              "      <td>5898.0</td>\n",
              "      <td>3184.0</td>\n",
              "      <td>4.5</td>\n",
              "      <td>1864</td>\n",
              "      <td>45</td>\n",
              "      <td>45</td>\n",
              "      <td>40</td>\n",
              "      <td>45</td>\n",
              "      <td>37.0</td>\n",
              "      <td>0.0</td>\n",
              "      <td>1.0</td>\n",
              "      <td>1.0</td>\n",
              "      <td>0.0</td>\n",
              "      <td>0.0</td>\n",
              "      <td>0.0</td>\n",
              "      <td>1.0</td>\n",
              "      <td>1.0</td>\n",
              "      <td>1.0</td>\n",
              "      <td>0.0</td>\n",
              "      <td>1.0</td>\n",
              "      <td>0.0</td>\n",
              "      <td>1.0</td>\n",
              "      <td>0.0</td>\n",
              "      <td>1.0</td>\n",
              "      <td>1.0</td>\n",
              "      <td>1.0</td>\n",
              "      <td>0.0</td>\n",
              "      <td>0.0</td>\n",
              "      <td>0.0</td>\n",
              "      <td>1.0</td>\n",
              "      <td>0.0</td>\n",
              "      <td>0.0</td>\n",
              "      <td>0.0</td>\n",
              "      <td>1.0</td>\n",
              "      <td>0.0</td>\n",
              "      <td>1.0</td>\n",
              "      <td>1.0</td>\n",
              "      <td>1.0</td>\n",
              "      <td>1.0</td>\n",
              "      <td>0.0</td>\n",
              "      <td>0.0</td>\n",
              "      <td>0.0</td>\n",
              "      <td>0.0</td>\n",
              "      <td>1.0</td>\n",
              "      <td>0.0</td>\n",
              "      <td>0.0</td>\n",
              "      <td>0.0</td>\n",
              "      <td>1.0</td>\n",
              "      <td>0.0</td>\n",
              "      <td>1.0</td>\n",
              "    </tr>\n",
              "    <tr>\n",
              "      <th>2</th>\n",
              "      <td>83110</td>\n",
              "      <td>Dusit Thani Laguna Phuket</td>\n",
              "      <td>₱4,906 - ₱30,741 (Based on Average Rates for a...</td>\n",
              "      <td>30741.0</td>\n",
              "      <td>4906.0</td>\n",
              "      <td>4.5</td>\n",
              "      <td>2333</td>\n",
              "      <td>45</td>\n",
              "      <td>45</td>\n",
              "      <td>45</td>\n",
              "      <td>40</td>\n",
              "      <td>NaN</td>\n",
              "      <td>1.0</td>\n",
              "      <td>1.0</td>\n",
              "      <td>1.0</td>\n",
              "      <td>1.0</td>\n",
              "      <td>1.0</td>\n",
              "      <td>1.0</td>\n",
              "      <td>1.0</td>\n",
              "      <td>1.0</td>\n",
              "      <td>1.0</td>\n",
              "      <td>1.0</td>\n",
              "      <td>1.0</td>\n",
              "      <td>1.0</td>\n",
              "      <td>1.0</td>\n",
              "      <td>1.0</td>\n",
              "      <td>1.0</td>\n",
              "      <td>1.0</td>\n",
              "      <td>1.0</td>\n",
              "      <td>0.0</td>\n",
              "      <td>1.0</td>\n",
              "      <td>0.0</td>\n",
              "      <td>1.0</td>\n",
              "      <td>1.0</td>\n",
              "      <td>0.0</td>\n",
              "      <td>1.0</td>\n",
              "      <td>1.0</td>\n",
              "      <td>0.0</td>\n",
              "      <td>1.0</td>\n",
              "      <td>1.0</td>\n",
              "      <td>1.0</td>\n",
              "      <td>1.0</td>\n",
              "      <td>1.0</td>\n",
              "      <td>1.0</td>\n",
              "      <td>1.0</td>\n",
              "      <td>0.0</td>\n",
              "      <td>0.0</td>\n",
              "      <td>1.0</td>\n",
              "      <td>0.0</td>\n",
              "      <td>1.0</td>\n",
              "      <td>1.0</td>\n",
              "      <td>0.0</td>\n",
              "      <td>1.0</td>\n",
              "    </tr>\n",
              "  </tbody>\n",
              "</table>\n",
              "</div>"
            ],
            "text/plain": [
              "  address  ... Wheelchair Access\n",
              "0   83150  ...               1.0\n",
              "1   83150  ...               1.0\n",
              "2   83110  ...               1.0\n",
              "\n",
              "[3 rows x 53 columns]"
            ]
          },
          "metadata": {
            "tags": []
          },
          "execution_count": 96
        }
      ]
    },
    {
      "cell_type": "markdown",
      "metadata": {
        "id": "aE4Eprpcewsl",
        "colab_type": "text"
      },
      "source": [
        "**Our data is prepared now.**\n",
        "\n",
        "Now we will start analyzing it. We will start with simplest things first to understand our data first.\n",
        "\n",
        "# Analysis\n",
        "\n",
        "Let me first create a bar graph of number of hotels in each zipcode."
      ]
    },
    {
      "cell_type": "code",
      "metadata": {
        "id": "f4D-y14ve3zI",
        "colab_type": "code",
        "outputId": "67a4b866-06e1-4f4d-d7d3-0e0d2a68402c",
        "colab": {
          "base_uri": "https://localhost:8080/",
          "height": 358
        }
      },
      "source": [
        "from matplotlib import pyplot as plt\n",
        "\n",
        "plt.xlabel('postal code')\n",
        "plt.ylabel('Number of hotels')\n",
        "mdf['address'].value_counts().plot(kind='bar')"
      ],
      "execution_count": 0,
      "outputs": [
        {
          "output_type": "execute_result",
          "data": {
            "text/plain": [
              "<matplotlib.axes._subplots.AxesSubplot at 0x7f864384a860>"
            ]
          },
          "metadata": {
            "tags": []
          },
          "execution_count": 38
        },
        {
          "output_type": "display_data",
          "data": {
            "image/png": "[encoded data removed]",
            "text/plain": [
              "<Figure size 432x288 with 1 Axes>"
            ]
          },
          "metadata": {
            "tags": []
          }
        }
      ]
    },
    {
      "cell_type": "markdown",
      "metadata": {
        "id": "VUReT3DusLXm",
        "colab_type": "text"
      },
      "source": [
        "Phuket 83150 seems to be extremely popular. Let's check what these popular zipcodes map to in reality.\n",
        "\n",
        "83150 happens to be Patong, the most popular beach in Phuket. 83100 is southern Phuket which includes Karon beach and many viewpoints while 83110 is nothern Phuket and includes the airport.\n",
        "\n",
        "\n",
        "Next let me plot number of hotels w.r.t ratings."
      ]
    },
    {
      "cell_type": "code",
      "metadata": {
        "id": "x-X7_ClFtaA8",
        "colab_type": "code",
        "outputId": "f1ec3cea-3e98-43d1-feb4-257f07bdd39a",
        "colab": {
          "base_uri": "https://localhost:8080/",
          "height": 292
        }
      },
      "source": [
        "mdf['rating'].value_counts().plot(kind='bar')"
      ],
      "execution_count": 0,
      "outputs": [
        {
          "output_type": "execute_result",
          "data": {
            "text/plain": [
              "<matplotlib.axes._subplots.AxesSubplot at 0x7f863fad36a0>"
            ]
          },
          "metadata": {
            "tags": []
          },
          "execution_count": 41
        },
        {
          "output_type": "display_data",
          "data": {
            "image/png": "[encoded data removed]",
            "text/plain": [
              "<Figure size 432x288 with 1 Axes>"
            ]
          },
          "metadata": {
            "tags": []
          }
        }
      ]
    },
    {
      "cell_type": "markdown",
      "metadata": {
        "id": "V65CmNojuW3i",
        "colab_type": "text"
      },
      "source": [
        "Most hotels are 4.5 star rated (it could also be because of sampling, we have sampled from the top). Let us assume there is no sampling bias here, let us see if the distribution is any different in the top three locations."
      ]
    },
    {
      "cell_type": "code",
      "metadata": {
        "id": "2BGssGOeuUe7",
        "colab_type": "code",
        "outputId": "a1058c22-229a-419f-aefc-2d4a05a1c25c",
        "colab": {
          "base_uri": "https://localhost:8080/",
          "height": 292
        }
      },
      "source": [
        "vc1 = mdf[mdf['address'] == '83150']['rating'].value_counts()\n",
        "vc2 = mdf[mdf['address'] == '83100']['rating'].value_counts()\n",
        "vc3 = mdf[mdf['address'] == '83110']['rating'].value_counts()\n",
        "vc1.plot(kind='bar', color='red', label='patong', position=0, alpha=1.0)\n",
        "vc2.plot(kind='bar', color='blue', label='south', position=0.25, alpha=0.85)\n",
        "vc3.plot(kind='bar', color='green', label='north', position=0.5, alpha=0.5)\n",
        "plt.legend()"
      ],
      "execution_count": 0,
      "outputs": [
        {
          "output_type": "execute_result",
          "data": {
            "text/plain": [
              "<matplotlib.legend.Legend at 0x7f863eb147f0>"
            ]
          },
          "metadata": {
            "tags": []
          },
          "execution_count": 193
        },
        {
          "output_type": "display_data",
          "data": {
            "image/png": "[encoded data removed]",
            "text/plain": [
              "<Figure size 432x288 with 1 Axes>"
            ]
          },
          "metadata": {
            "tags": []
          }
        }
      ]
    },
    {
      "cell_type": "code",
      "metadata": {
        "id": "i9MwIpmAYKYS",
        "colab_type": "code",
        "outputId": "cc3f2b4f-c41b-4fff-b9d9-d2ae04c0ee12",
        "colab": {
          "base_uri": "https://localhost:8080/",
          "height": 284
        }
      },
      "source": [
        "# Create the above to a function, so that I can look for other similar plots.\n",
        "\n",
        "def plot3Locs(key):\n",
        "  vc1 = mdf[mdf['address'] == '83150'][key].value_counts()\n",
        "  vc2 = mdf[mdf['address'] == '83100'][key].value_counts()\n",
        "  vc3 = mdf[mdf['address'] == '83110'][key].value_counts()\n",
        "  vc1.plot(kind='bar', color='red', label='patong', position=0, alpha=1.0)\n",
        "  vc2.plot(kind='bar', color='blue', label='south', position=0.25, alpha=0.85)\n",
        "  vc3.plot(kind='bar', color='green', label='north', position=0.5, alpha=0.5)\n",
        "  plt.title(key)\n",
        "  plt.legend()\n",
        "\n",
        "plot3Locs('Cleanliness')"
      ],
      "execution_count": 0,
      "outputs": [
        {
          "output_type": "display_data",
          "data": {
            "image/png": "[encoded data removed]",
            "text/plain": [
              "<Figure size 432x288 with 1 Axes>"
            ]
          },
          "metadata": {
            "tags": []
          }
        }
      ]
    },
    {
      "cell_type": "code",
      "metadata": {
        "id": "QY-5gjPpY2DO",
        "colab_type": "code",
        "outputId": "db6b2b4f-63da-4aaf-a160-40f14c4ab3c2",
        "colab": {
          "base_uri": "https://localhost:8080/",
          "height": 284
        }
      },
      "source": [
        "plot3Locs('Location')\n"
      ],
      "execution_count": 0,
      "outputs": [
        {
          "output_type": "display_data",
          "data": {
            "image/png": "[encoded data removed]",
            "text/plain": [
              "<Figure size 432x288 with 1 Axes>"
            ]
          },
          "metadata": {
            "tags": []
          }
        }
      ]
    },
    {
      "cell_type": "code",
      "metadata": {
        "id": "xXmtVwAbZGCp",
        "colab_type": "code",
        "outputId": "52eea042-de86-4f28-e3d3-7ebccefa6970",
        "colab": {
          "base_uri": "https://localhost:8080/",
          "height": 284
        }
      },
      "source": [
        "plot3Locs('Value')\n"
      ],
      "execution_count": 0,
      "outputs": [
        {
          "output_type": "display_data",
          "data": {
            "image/png": "[encoded data removed]",
            "text/plain": [
              "<Figure size 432x288 with 1 Axes>"
            ]
          },
          "metadata": {
            "tags": []
          }
        }
      ]
    },
    {
      "cell_type": "code",
      "metadata": {
        "id": "pGnFKlLpZLVk",
        "colab_type": "code",
        "outputId": "272dceb6-4904-4e90-aa70-122d5d5b1dab",
        "colab": {
          "base_uri": "https://localhost:8080/",
          "height": 284
        }
      },
      "source": [
        "plot3Locs('Service')"
      ],
      "execution_count": 0,
      "outputs": [
        {
          "output_type": "display_data",
          "data": {
            "image/png": "[encoded data removed]",
            "text/plain": [
              "<Figure size 432x288 with 1 Axes>"
            ]
          },
          "metadata": {
            "tags": []
          }
        }
      ]
    },
    {
      "cell_type": "code",
      "metadata": {
        "id": "skljvrKhSZKh",
        "colab_type": "code",
        "outputId": "69016d62-a392-4e58-f788-5a5493b937e5",
        "colab": {
          "base_uri": "https://localhost:8080/",
          "height": 706
        }
      },
      "source": [
        "# Does price depend on amenities\n",
        "\n",
        "for key in amenities_df.columns.values:\n",
        "  print(key, '\\t', mdf['price_max'].corr(mdf[key]))"
      ],
      "execution_count": 0,
      "outputs": [
        {
          "output_type": "stream",
          "text": [
            "Accessible rooms \t 0.07343002536385473\n",
            "Air conditioning \t -0.01763045334058619\n",
            "Airport transportation \t -0.009700176449822276\n",
            "Babysitting \t 0.08301258197222844\n",
            "Banquet Room \t 0.046093566779459916\n",
            "Bar/Lounge \t -0.0022969825231890385\n",
            "Breakfast Available \t 0.014170113585698144\n",
            "Breakfast included \t 0.008616016178784883\n",
            "Business Center with Internet Access \t 0.02430345699958081\n",
            "Children Activities (Kid / Family Friendly) \t 0.07343002536385473\n",
            "Concierge \t 0.001833298196485412\n",
            "Conference Facilities \t 0.059293031027625606\n",
            "Dry Cleaning \t 0.015419711596339506\n",
            "Family Rooms \t -0.00494702999644419\n",
            "Fitness Center with Gym / Workout Room \t 0.027129807383013075\n",
            "Free High Speed Internet (WiFi) \t -0.026944555626064057\n",
            "Free parking \t 0.01240964498674335\n",
            "Golf Course \t 0.01390284423106898\n",
            "Hot Tub \t 0.08220551292580064\n",
            "Kitchenette \t 0.030591663299899662\n",
            "Laundry Service \t 0.0028830032698712238\n",
            "Meeting rooms \t 0.048873640909345636\n",
            "Microwave \t 0.030591663299899662\n",
            "Minibar \t 0.027741863241997344\n",
            "Multilingual Staff \t 0.018323580226073836\n",
            "Non-smoking hotel \t -0.05840653193345484\n",
            "Non-smoking rooms \t -0.01763045334058619\n",
            "Outdoor pool \t 0.01097340946035353\n",
            "Pool \t 0.005901376780289601\n",
            "Public Wifi \t 0.005531181389106699\n",
            "Refrigerator in room \t -0.0138540707248484\n",
            "Restaurant \t 0.013435714710432421\n",
            "Room service \t 0.027741863241997344\n",
            "Sauna \t -0.0165760973633472\n",
            "Self-Serve Laundry \t 0.004886007004424399\n",
            "Shuttle Bus Service \t 0.03906408395718409\n",
            "Smoking rooms available \t -0.002522038116195014\n",
            "Spa \t 0.05363143006624365\n",
            "Suites \t 0.03716564992409083\n",
            "Tennis Court \t 0.01390284423106898\n",
            "Wheelchair Access \t 0.02915954485701465\n"
          ],
          "name": "stdout"
        }
      ]
    },
    {
      "cell_type": "code",
      "metadata": {
        "id": "c07RIw9-VS4L",
        "colab_type": "code",
        "outputId": "a34b480e-f0e1-46cf-edfd-64e12d5de070",
        "colab": {
          "base_uri": "https://localhost:8080/",
          "height": 2083
        }
      },
      "source": [
        "for key in amenities_df.columns.values:\n",
        "  print(mdf[key].value_counts())"
      ],
      "execution_count": 0,
      "outputs": [
        {
          "output_type": "stream",
          "text": [
            "0.0    263\n",
            "1.0      3\n",
            "Name: Accessible rooms, dtype: int64\n",
            "0.0    252\n",
            "1.0     14\n",
            "Name: Air conditioning, dtype: int64\n",
            "0.0    253\n",
            "1.0     13\n",
            "Name: Airport transportation, dtype: int64\n",
            "0.0    262\n",
            "1.0      4\n",
            "Name: Babysitting, dtype: int64\n",
            "0.0    263\n",
            "1.0      3\n",
            "Name: Banquet Room, dtype: int64\n",
            "0.0    256\n",
            "1.0     10\n",
            "Name: Bar/Lounge, dtype: int64\n",
            "0.0    256\n",
            "1.0     10\n",
            "Name: Breakfast Available, dtype: int64\n",
            "0.0    260\n",
            "1.0      6\n",
            "Name: Breakfast included, dtype: int64\n",
            "0.0    263\n",
            "1.0      3\n",
            "Name: Business Center with Internet Access, dtype: int64\n",
            "0.0    263\n",
            "1.0      3\n",
            "Name: Children Activities (Kid / Family Friendly), dtype: int64\n",
            "0.0    254\n",
            "1.0     12\n",
            "Name: Concierge, dtype: int64\n",
            "0.0    262\n",
            "1.0      4\n",
            "Name: Conference Facilities, dtype: int64\n",
            "0.0    255\n",
            "1.0     11\n",
            "Name: Dry Cleaning, dtype: int64\n",
            "0.0    258\n",
            "1.0      8\n",
            "Name: Family Rooms, dtype: int64\n",
            "0.0    256\n",
            "1.0     10\n",
            "Name: Fitness Center with Gym / Workout Room, dtype: int64\n",
            "0.0    253\n",
            "1.0     13\n",
            "Name: Free High Speed Internet (WiFi), dtype: int64\n",
            "0.0    255\n",
            "1.0     11\n",
            "Name: Free parking, dtype: int64\n",
            "0.0    265\n",
            "1.0      1\n",
            "Name: Golf Course, dtype: int64\n",
            "0.0    265\n",
            "1.0      1\n",
            "Name: Hot Tub, dtype: int64\n",
            "0.0    265\n",
            "1.0      1\n",
            "Name: Kitchenette, dtype: int64\n",
            "0.0    254\n",
            "1.0     12\n",
            "Name: Laundry Service, dtype: int64\n",
            "0.0    261\n",
            "1.0      5\n",
            "Name: Meeting rooms, dtype: int64\n",
            "0.0    265\n",
            "1.0      1\n",
            "Name: Microwave, dtype: int64\n",
            "0.0    258\n",
            "1.0      8\n",
            "Name: Minibar, dtype: int64\n",
            "0.0    256\n",
            "1.0     10\n",
            "Name: Multilingual Staff, dtype: int64\n",
            "0.0    262\n",
            "1.0      4\n",
            "Name: Non-smoking hotel, dtype: int64\n",
            "0.0    252\n",
            "1.0     14\n",
            "Name: Non-smoking rooms, dtype: int64\n",
            "0.0    255\n",
            "1.0     11\n",
            "Name: Outdoor pool, dtype: int64\n",
            "0.0    254\n",
            "1.0     12\n",
            "Name: Pool, dtype: int64\n",
            "0.0    257\n",
            "1.0      9\n",
            "Name: Public Wifi, dtype: int64\n",
            "0.0    255\n",
            "1.0     11\n",
            "Name: Refrigerator in room, dtype: int64\n",
            "0.0    255\n",
            "1.0     11\n",
            "Name: Restaurant, dtype: int64\n",
            "0.0    258\n",
            "1.0      8\n",
            "Name: Room service, dtype: int64\n",
            "0.0    265\n",
            "1.0      1\n",
            "Name: Sauna, dtype: int64\n",
            "0.0    264\n",
            "1.0      2\n",
            "Name: Self-Serve Laundry, dtype: int64\n",
            "0.0    260\n",
            "1.0      6\n",
            "Name: Shuttle Bus Service, dtype: int64\n",
            "0.0    264\n",
            "1.0      2\n",
            "Name: Smoking rooms available, dtype: int64\n",
            "0.0    259\n",
            "1.0      7\n",
            "Name: Spa, dtype: int64\n",
            "0.0    257\n",
            "1.0      9\n",
            "Name: Suites, dtype: int64\n",
            "0.0    265\n",
            "1.0      1\n",
            "Name: Tennis Court, dtype: int64\n",
            "0.0    260\n",
            "1.0      6\n",
            "Name: Wheelchair Access, dtype: int64\n"
          ],
          "name": "stdout"
        }
      ]
    },
    {
      "cell_type": "code",
      "metadata": {
        "id": "qqO4tQZ5Vm5q",
        "colab_type": "code",
        "outputId": "03a99bb5-8d80-4c46-ba68-9d4a2c049752",
        "colab": {
          "base_uri": "https://localhost:8080/",
          "height": 54
        }
      },
      "source": [
        "df['d'][17] # This hotel has amenities but somehow it is not there in our scraped data. We may need to scrape again/investigate. We can't do any analysis on amenities now because our data is unreliable."
      ],
      "execution_count": 0,
      "outputs": [
        {
          "output_type": "execute_result",
          "data": {
            "text/plain": [
              "'{\"@context\":\"http://schema.org\",\"@type\":\"LodgingBusiness\",\"name\":\"Baan Oui\",\"url\":\"/Hotel_Review-g1231757-d1637908-Reviews-Baan_Oui-Nai_Harn_Rawai_Phuket.html\",\"image\":\"https://media-cdn.tripadvisor.com/media/photo-s/02/06/9c/bc/nai-harn-beach.jpg\",\"priceRange\":\"₱887 - ₱1,931 (Based on Average Rates for a Standard Room)\",\"aggregateRating\":{\"@type\":\"AggregateRating\",\"ratingValue\":\"4.5\",\"reviewCount\":\"62\"},\"address\":{\"@type\":\"PostalAddress\",\"streetAddress\":\"14/95-96 Moo 1.Saiyuan Road Tambol Rawai\",\"addressLocality\":\"Nai Harn\",\"addressRegion\":\"\",\"postalCode\":\"83130\",\"addressCountry\":{\"@type\":\"Country\",\"name\":\"Thailand\"}}}'"
            ]
          },
          "metadata": {
            "tags": []
          },
          "execution_count": 92
        }
      ]
    },
    {
      "cell_type": "code",
      "metadata": {
        "id": "HdxJxFGtXX_b",
        "colab_type": "code",
        "outputId": "5ff98350-0369-4f20-c511-8df7bcca766c",
        "colab": {
          "base_uri": "https://localhost:8080/",
          "height": 269
        }
      },
      "source": [
        "# Does rating influence pricing.\n",
        "# Since there are only three rating buckets that we have, we will have to look at the three sets separately.\n",
        "\n",
        "ax = mdf[['price_min', 'price_max']].plot.hist(bins=20, subplots=True)\n"
      ],
      "execution_count": 0,
      "outputs": [
        {
          "output_type": "display_data",
          "data": {
            "image/png": "[encoded data removed]",
            "text/plain": [
              "<Figure size 432x288 with 2 Axes>"
            ]
          },
          "metadata": {
            "tags": []
          }
        }
      ]
    },
    {
      "cell_type": "code",
      "metadata": {
        "id": "76c-Oe_KbnaB",
        "colab_type": "code",
        "outputId": "d2d582d0-2b13-4013-cf6c-4795bd14bd2d",
        "colab": {
          "base_uri": "https://localhost:8080/",
          "height": 847
        }
      },
      "source": [
        "def plotPriceWRT(key, values, col):\n",
        "  for val in values:\n",
        "    mdf[mdf[key] == val][col].plot.hist(bins=20,\n",
        "                                        subplots=True,\n",
        "                                        title=key + '=' + val,\n",
        "                                        range=(0, 30000))\n",
        "    \n",
        "plotPriceWRT('address', ['83150', '83100', '83110'], ['price_min'])"
      ],
      "execution_count": 0,
      "outputs": [
        {
          "output_type": "display_data",
          "data": {
            "image/png": "[encoded data removed]",
            "text/plain": [
              "<Figure size 432x288 with 1 Axes>"
            ]
          },
          "metadata": {
            "tags": []
          }
        },
        {
          "output_type": "display_data",
          "data": {
            "image/png": "[encoded data removed]",
            "text/plain": [
              "<Figure size 432x288 with 1 Axes>"
            ]
          },
          "metadata": {
            "tags": []
          }
        },
        {
          "output_type": "display_data",
          "data": {
            "image/png": "[encoded data removed]",
            "text/plain": [
              "<Figure size 432x288 with 1 Axes>"
            ]
          },
          "metadata": {
            "tags": []
          }
        }
      ]
    },
    {
      "cell_type": "code",
      "metadata": {
        "id": "LeqDYc2UdirT",
        "colab_type": "code",
        "outputId": "17a74bea-4001-4dd6-cf94-2bf01b8036e8",
        "colab": {
          "base_uri": "https://localhost:8080/",
          "height": 847
        }
      },
      "source": [
        "plotPriceWRT('rating', ['4.0', '4.5', '5.0'], ['price_min'])"
      ],
      "execution_count": 0,
      "outputs": [
        {
          "output_type": "display_data",
          "data": {
            "image/png": "[encoded data removed]",
            "text/plain": [
              "<Figure size 432x288 with 1 Axes>"
            ]
          },
          "metadata": {
            "tags": []
          }
        },
        {
          "output_type": "display_data",
          "data": {
            "image/png": "[encoded data removed]",
            "text/plain": [
              "<Figure size 432x288 with 1 Axes>"
            ]
          },
          "metadata": {
            "tags": []
          }
        },
        {
          "output_type": "display_data",
          "data": {
            "image/png": "[encoded data removed]",
            "text/plain": [
              "<Figure size 432x288 with 1 Axes>"
            ]
          },
          "metadata": {
            "tags": []
          }
        }
      ]
    },
    {
      "cell_type": "code",
      "metadata": {
        "id": "CFW9bCR0eTov",
        "colab_type": "code",
        "outputId": "1c885f5c-f8a6-4176-c299-3c6e1fca0322",
        "colab": {
          "base_uri": "https://localhost:8080/",
          "height": 847
        }
      },
      "source": [
        "# Do people pay for service?\n",
        "\n",
        "plotPriceWRT('Service', ['40', '45', '50'], ['price_min'])"
      ],
      "execution_count": 0,
      "outputs": [
        {
          "output_type": "display_data",
          "data": {
            "image/png": "[encoded data removed]",
            "text/plain": [
              "<Figure size 432x288 with 1 Axes>"
            ]
          },
          "metadata": {
            "tags": []
          }
        },
        {
          "output_type": "display_data",
          "data": {
            "image/png": "[encoded data removed]",
            "text/plain": [
              "<Figure size 432x288 with 1 Axes>"
            ]
          },
          "metadata": {
            "tags": []
          }
        },
        {
          "output_type": "display_data",
          "data": {
            "image/png": "[encoded data removed]",
            "text/plain": [
              "<Figure size 432x288 with 1 Axes>"
            ]
          },
          "metadata": {
            "tags": []
          }
        }
      ]
    },
    {
      "cell_type": "code",
      "metadata": {
        "id": "LRtoTxX8ei6Y",
        "colab_type": "code",
        "outputId": "b0a98879-b45b-42be-93ad-bd8a5182f2b9",
        "colab": {
          "base_uri": "https://localhost:8080/",
          "height": 847
        }
      },
      "source": [
        "# Do people pay for Location?\n",
        "\n",
        "plotPriceWRT('Location', ['40', '45', '50'], ['price_min'])"
      ],
      "execution_count": 0,
      "outputs": [
        {
          "output_type": "display_data",
          "data": {
            "image/png": "[encoded data removed]",
            "text/plain": [
              "<Figure size 432x288 with 1 Axes>"
            ]
          },
          "metadata": {
            "tags": []
          }
        },
        {
          "output_type": "display_data",
          "data": {
            "image/png": "[encoded data removed]",
            "text/plain": [
              "<Figure size 432x288 with 1 Axes>"
            ]
          },
          "metadata": {
            "tags": []
          }
        },
        {
          "output_type": "display_data",
          "data": {
            "image/png": "[encoded data removed]",
            "text/plain": [
              "<Figure size 432x288 with 1 Axes>"
            ]
          },
          "metadata": {
            "tags": []
          }
        }
      ]
    },
    {
      "cell_type": "code",
      "metadata": {
        "id": "0eE6rwR1es4J",
        "colab_type": "code",
        "outputId": "ab30b485-95cc-415b-a8bc-f218ce26b01b",
        "colab": {
          "base_uri": "https://localhost:8080/",
          "height": 847
        }
      },
      "source": [
        "# Do people pay for Cleanliness?\n",
        "\n",
        "plotPriceWRT('Cleanliness', ['40', '45', '50'], ['price_min'])"
      ],
      "execution_count": 0,
      "outputs": [
        {
          "output_type": "display_data",
          "data": {
            "image/png": "[encoded data removed]",
            "text/plain": [
              "<Figure size 432x288 with 1 Axes>"
            ]
          },
          "metadata": {
            "tags": []
          }
        },
        {
          "output_type": "display_data",
          "data": {
            "image/png": "[encoded data removed]",
            "text/plain": [
              "<Figure size 432x288 with 1 Axes>"
            ]
          },
          "metadata": {
            "tags": []
          }
        },
        {
          "output_type": "display_data",
          "data": {
            "image/png": "[encoded data removed]",
            "text/plain": [
              "<Figure size 432x288 with 1 Axes>"
            ]
          },
          "metadata": {
            "tags": []
          }
        }
      ]
    },
    {
      "cell_type": "code",
      "metadata": {
        "id": "7Y_YEfZEe9G_",
        "colab_type": "code",
        "outputId": "2cba5761-05e5-4ce1-d935-78f0953b1a87",
        "colab": {
          "base_uri": "https://localhost:8080/",
          "height": 847
        }
      },
      "source": [
        "# Are cheaper hotel 'value'd?\n",
        "\n",
        "plotPriceWRT('Value', ['40', '45', '50'], ['price_min'])"
      ],
      "execution_count": 0,
      "outputs": [
        {
          "output_type": "display_data",
          "data": {
            "image/png": "[encoded data removed]",
            "text/plain": [
              "<Figure size 432x288 with 1 Axes>"
            ]
          },
          "metadata": {
            "tags": []
          }
        },
        {
          "output_type": "display_data",
          "data": {
            "image/png": "[encoded data removed]",
            "text/plain": [
              "<Figure size 432x288 with 1 Axes>"
            ]
          },
          "metadata": {
            "tags": []
          }
        },
        {
          "output_type": "display_data",
          "data": {
            "image/png": "[encoded data removed]",
            "text/plain": [
              "<Figure size 432x288 with 1 Axes>"
            ]
          },
          "metadata": {
            "tags": []
          }
        }
      ]
    },
    {
      "cell_type": "code",
      "metadata": {
        "id": "OeeHR48xjHJ7",
        "colab_type": "code",
        "outputId": "4f72dd4d-b5d2-48b3-a53d-a965c0495bc1",
        "colab": {
          "base_uri": "https://localhost:8080/",
          "height": 101
        }
      },
      "source": [
        "# Do cleaner hotels get more reviews?\n",
        "# It would be expected that hotels with very high level of cleanliness and very\n",
        "# low level of cleanliness will be reviewed more than the others i.e. on a per\n",
        "# visitor basis. On the other hand hotels with less clean rooms would get less\n",
        "# visitors. So the effect may not be as pronounced for non-clean hotels.\n",
        "\n",
        "# We will look at median number of reviews\n",
        "\n",
        "def printMedian(key, values):\n",
        "  print(key, '--')\n",
        "  for val in values:\n",
        "    print(val, ' has #rev ', mdf[mdf[key] == val]['review'].median())\n",
        "\n",
        "printMedian('Cleanliness', ['35', '40', '45', '50'])\n"
      ],
      "execution_count": 0,
      "outputs": [
        {
          "output_type": "stream",
          "text": [
            "Cleanliness --\n",
            "35  has #rev  901.5\n",
            "40  has #rev  834.0\n",
            "45  has #rev  492.0\n",
            "50  has #rev  164.0\n"
          ],
          "name": "stdout"
        }
      ]
    },
    {
      "cell_type": "code",
      "metadata": {
        "id": "McybnJOEnjEq",
        "colab_type": "code",
        "outputId": "ae35320e-b967-4a14-e7c7-c692b61b1f6a",
        "colab": {
          "base_uri": "https://localhost:8080/",
          "height": 101
        }
      },
      "source": [
        "# Hypothesis does not hold true. It looks like people review more when they are unhappy.\n",
        "# Is that true?\n",
        "\n",
        "printMedian('rating', ['3.5', '4.0', '4.5', '5.0'])"
      ],
      "execution_count": 0,
      "outputs": [
        {
          "output_type": "stream",
          "text": [
            "rating --\n",
            "3.5  has #rev  922.0\n",
            "4.0  has #rev  773.0\n",
            "4.5  has #rev  434.5\n",
            "5.0  has #rev  161.0\n"
          ],
          "name": "stdout"
        }
      ]
    },
    {
      "cell_type": "code",
      "metadata": {
        "id": "IyaszLIen7Zn",
        "colab_type": "code",
        "outputId": "3f55b625-847a-49fe-8870-c0c8c1d24d01",
        "colab": {
          "base_uri": "https://localhost:8080/",
          "height": 269
        }
      },
      "source": [
        "# It definitely seems true now. #Reviews would be a bad indicator of demand.\n",
        "# Let's check a little more.\n",
        "\n",
        "printMedian('Service', ['35', '40', '45', '50'])\n",
        "printMedian('Location', ['35', '40', '45', '50'])\n",
        "printMedian('Value', ['35', '40', '45', '50'])"
      ],
      "execution_count": 0,
      "outputs": [
        {
          "output_type": "stream",
          "text": [
            "Service --\n",
            "35  has #rev  926.5\n",
            "40  has #rev  767.0\n",
            "45  has #rev  443.0\n",
            "50  has #rev  164.0\n",
            "Location --\n",
            "35  has #rev  666.5\n",
            "40  has #rev  692.5\n",
            "45  has #rev  343.0\n",
            "50  has #rev  154.0\n",
            "Value --\n",
            "35  has #rev  832.0\n",
            "40  has #rev  965.0\n",
            "45  has #rev  275.0\n",
            "50  has #rev  113.0\n"
          ],
          "name": "stdout"
        }
      ]
    },
    {
      "cell_type": "markdown",
      "metadata": {
        "id": "hHM02im0owOm",
        "colab_type": "text"
      },
      "source": [
        "People seem more tolerant of bad location as far as tendency to write a review is concerned."
      ]
    },
    {
      "cell_type": "code",
      "metadata": {
        "id": "9qjG1fC5ns2L",
        "colab_type": "code",
        "outputId": "5fda04e6-99e1-4042-fc0c-34fcde512f0a",
        "colab": {
          "base_uri": "https://localhost:8080/",
          "height": 84
        }
      },
      "source": [
        "# Could there be a connection between #reviews and pricing?\n",
        "# From what we discovered we should not club differently rated hotels together.\n",
        "# But first let's see if there is any correlation between overall rating and other\n",
        "# ratings.\n",
        "\n",
        "def toFloat(row):\n",
        "  return float(row)\n",
        "\n",
        "def printCorr(key, keys):\n",
        "  for sk in keys:\n",
        "    print('Correlation between ', key, ' and ', sk, '\\t',\n",
        "          mdf[key].apply(toFloat).corr(mdf[sk].apply(toFloat)))\n",
        "\n",
        "printCorr('rating', ['Cleanliness', 'Service', 'Location', 'Value'])\n"
      ],
      "execution_count": 0,
      "outputs": [
        {
          "output_type": "stream",
          "text": [
            "Correlation between  rating  and  Cleanliness \t 0.6901304389963504\n",
            "Correlation between  rating  and  Service \t 0.7808058250549523\n",
            "Correlation between  rating  and  Location \t 0.3155174456537072\n",
            "Correlation between  rating  and  Value \t 0.6703000683374944\n"
          ],
          "name": "stdout"
        }
      ]
    },
    {
      "cell_type": "code",
      "metadata": {
        "id": "Ao2SkIoirPus",
        "colab_type": "code",
        "outputId": "5f73d866-02df-4157-fc45-50287ed775f1",
        "colab": {
          "base_uri": "https://localhost:8080/",
          "height": 420
        }
      },
      "source": [
        "def printFilteredCorr(filter_key, filter_value, key, keys):\n",
        "  f_df = mdf[mdf[filter_key] == filter_value]\n",
        "  print(filter_key, ' = ', filter_value, f_df.shape[0])\n",
        "  for sk in keys:\n",
        "    print('Correlation between ', key, ' and ', sk, '\\t',\n",
        "          f_df[key].apply(toFloat).corr(f_df[sk].apply(toFloat)))\n",
        "\n",
        "for v in ['3.5', '4.0', '4.5', '5.0']:\n",
        "  printFilteredCorr('rating', v, 'review', ['price_min', 'price_max'])\n",
        "\n",
        "for v in ['35', '40', '45', '50']:\n",
        "  printFilteredCorr('Service', v, 'review', ['price_min', 'price_max'])"
      ],
      "execution_count": 0,
      "outputs": [
        {
          "output_type": "stream",
          "text": [
            "rating  =  3.5 3\n",
            "Correlation between  review  and  price_min \t 0.9999190675331416\n",
            "Correlation between  review  and  price_max \t 0.6502392742356479\n",
            "rating  =  4.0 71\n",
            "Correlation between  review  and  price_min \t 0.17921087861821597\n",
            "Correlation between  review  and  price_max \t 0.14877086190429714\n",
            "rating  =  4.5 152\n",
            "Correlation between  review  and  price_min \t 0.18771103931719227\n",
            "Correlation between  review  and  price_max \t 0.18963860348928577\n",
            "rating  =  5.0 40\n",
            "Correlation between  review  and  price_min \t 0.3281149694155427\n",
            "Correlation between  review  and  price_max \t 0.44260603691005274\n",
            "Service  =  35 10\n",
            "Correlation between  review  and  price_min \t 0.7508296919523053\n",
            "Correlation between  review  and  price_max \t 0.2579711257659456\n",
            "Service  =  40 55\n",
            "Correlation between  review  and  price_min \t 0.11477404347385627\n",
            "Correlation between  review  and  price_max \t 0.022120225821274146\n",
            "Service  =  45 148\n",
            "Correlation between  review  and  price_min \t 0.18602655258564352\n",
            "Correlation between  review  and  price_max \t 0.1916599129508719\n",
            "Service  =  50 51\n",
            "Correlation between  review  and  price_min \t 0.21612380355548547\n",
            "Correlation between  review  and  price_max \t 0.37188365080933095\n"
          ],
          "name": "stdout"
        }
      ]
    },
    {
      "cell_type": "code",
      "metadata": {
        "id": "DlG31AxgtCjC",
        "colab_type": "code",
        "colab": {}
      },
      "source": [
        "# How would we interpret this data?"
      ],
      "execution_count": 0,
      "outputs": []
    },
    {
      "cell_type": "markdown",
      "metadata": {
        "id": "3U5wLaQgx9PM",
        "colab_type": "text"
      },
      "source": [
        "We have a lot of findings but need to distill down to the most important and pertinent conclusions. Before even developing the presentation, let us summarize the findings and construct our storystory.\n",
        "\n",
        "Our findings -\n",
        "\n",
        "1. Users appear to be more likely to leave a negative review when dissatisfied than they are to leave a positive review when satisfied.\n",
        "      -This effect is strongest for 'Cleanliness' and 'Service', and weakest for 'Location'.\n",
        "2. The number of reviews can't be taken as a conclusive signal of demand.\n",
        "3. Price wise, cleanliness and service seem to have the greatest impact on our dependent variables, and location (i.e people's perception of a good location) the least. Our hotel should therefore focus on cleanliness and service.\n",
        "4. Patong has double the number of hotels than north or south. It also seems to have good distribution of hotels with regards to rating. North seems to lack good hotels (from ratings), and at the same time has higher priced hotels. This needs further analysis - why are hotels in north more expensive. Is the cost of business higher there? One possible explanation may be that a more affluent subpopulation of tourists chooses to go there.\n",
        "5. In order to decide on a location, let us see if North has lower levels of cleanliness and service. When we check above, we find that service and cleanliness rank lower. Since these two would be in our control, we therefore suggest that, all other factors being equal, there is a greater opportunity to differentiate ourselves with a high-earning hotel in the North with competitive levels of cleanliness and service.\n",
        "\n",
        "\n",
        "A meta level analysis of howI worked with the data -\n",
        "\n",
        "1. I had to look at my data again when I did not see any expected correlation with amenities (don't trust the data blindly). Turned out that it was an error in the data scraping, and I corrected and redid it.\n",
        "\n",
        "2. Once I saw anything interesting (i.e significant +ve/-ve correlation), I dug further in to understand the pattern better. \n",
        "\n",
        "3. Code wise, once I have looked at a pattern/metric for one set of variable, it's very easy to look for the same pattern for other set of variables.\n",
        "\n"
      ]
    },
    {
      "cell_type": "code",
      "metadata": {
        "id": "wQjjaGkj50JD",
        "colab_type": "code",
        "colab": {}
      },
      "source": [
        ""
      ],
      "execution_count": 0,
      "outputs": []
    }
  ]
}